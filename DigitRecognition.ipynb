{
 "cells": [
  {
   "cell_type": "markdown",
   "metadata": {},
   "source": [
    "# Digit Recognition "
   ]
  },
  {
   "cell_type": "markdown",
   "metadata": {},
   "source": [
    "The finally learning outcome for this series of notebooks and probably the most important is making a python script that can recognise digits. This notebook will contain various information about the script I am going to create as well as how to use it. "
   ]
  },
  {
   "cell_type": "markdown",
   "metadata": {},
   "source": [
    "## Keras "
   ]
  },
  {
   "cell_type": "markdown",
   "metadata": {},
   "source": [
    "The neural network I will be using for this script is Keras. Keras is an open source neural network library written in Python. One of the main features of Kearas is its user friendlyness and ability to enable fast experimentation with neural networks. Keras contains many of the standard features of a neural network such as blocks, layers and the various functions. Before we find out what all these terms means its best to start with how we can get keras to work on our machines. First we will go over the basic installation of Keras."
   ]
  },
  {
   "cell_type": "markdown",
   "metadata": {},
   "source": [
    "## Installation"
   ]
  },
  {
   "cell_type": "markdown",
   "metadata": {},
   "source": [
    "For the installation of Keras I used the Anaconda Prompt program supplied with Anaconda. I first enterted the command \"conda install keras\" trying to jump off the deep end but unfortunatly I was stuck in an infinate loop, so i decided to research. I found a good tutorial online on how to fix this error and actually properly configure the keras environment. "
   ]
  },
  {
   "cell_type": "markdown",
   "metadata": {},
   "source": [
    "The first step for getting Keras to install properly is to configure an environment for it on your pc. To achieve this I once again used anaconda prompt for this. To set up an environment use the command conda create -n [keras]. This will create an enviroment in the directory you are in. Next to instal keras to environment use conda install keras. Once these two steps are achieved all you need to do is create a .py script file in the environment and use."
   ]
  },
  {
   "cell_type": "code",
   "execution_count": null,
   "metadata": {},
   "outputs": [],
   "source": []
  }
 ],
 "metadata": {
  "kernelspec": {
   "display_name": "Python 3",
   "language": "python",
   "name": "python3"
  },
  "language_info": {
   "codemirror_mode": {
    "name": "ipython",
    "version": 3
   },
   "file_extension": ".py",
   "mimetype": "text/x-python",
   "name": "python",
   "nbconvert_exporter": "python",
   "pygments_lexer": "ipython3",
   "version": "3.7.0"
  }
 },
 "nbformat": 4,
 "nbformat_minor": 2
}
