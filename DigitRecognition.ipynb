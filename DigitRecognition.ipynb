{
 "cells": [
  {
   "cell_type": "markdown",
   "metadata": {},
   "source": [
    "# Digit Recognition "
   ]
  },
  {
   "cell_type": "markdown",
   "metadata": {},
   "source": [
    "The finally learning outcome for this series of notebooks and probably the most important is making a python script that can recognise digits. This notebook will contain various information about the script I am going to create as well as how to use it. "
   ]
  },
  {
   "cell_type": "markdown",
   "metadata": {},
   "source": [
    "## Keras "
   ]
  },
  {
   "cell_type": "markdown",
   "metadata": {},
   "source": [
    "The neural network I will be using for this script is Keras. Keras is an open source neural network library written in Python. One of the main features of Kearas is its user friendlyness and ability to enable fast experimentation with neural networks. Keras contains many of the standard features of a neural network such as blocks, layers and the various functions. Before we find out what all these terms means its best to start with how we can get keras to work on our machines. First we will go over the basic installation of Keras."
   ]
  },
  {
   "cell_type": "markdown",
   "metadata": {},
   "source": [
    "## Installation"
   ]
  },
  {
   "cell_type": "markdown",
   "metadata": {},
   "source": [
    "For the installation of Keras I used the Anaconda Prompt program supplied with Anaconda. I first enterted the command \"conda install keras\" trying to jump off the deep end but unfortunatly I was stuck in an infinate loop, so i decided to research. I found a good tutorial online on how to fix this error and actually properly configure the keras environment. "
   ]
  },
  {
   "cell_type": "markdown",
   "metadata": {},
   "source": [
    "The first step for getting Keras to install properly is to configure an environment for it on your pc. To achieve this I once again used anaconda prompt for this. To set up an environment use the command conda create -n [keras]. This will create an enviroment in the directory you are in. Next to instal keras to environment use conda install keras. Once these two steps are achieved all you need to do is create a .py script file in the environment witht he code: "
   ]
  },
  {
   "cell_type": "code",
   "execution_count": null,
   "metadata": {},
   "outputs": [],
   "source": [
    "print (\"keras version: \" + kr.__version__)"
   ]
  },
  {
   "cell_type": "markdown",
   "metadata": {},
   "source": [
    "Once the file and if everything is installed correctly the version number of keras should be outputted to show you it has been installed correctly "
   ]
  },
  {
   "cell_type": "markdown",
   "metadata": {},
   "source": [
    "# What My Script Does And How To Use"
   ]
  },
  {
   "cell_type": "markdown",
   "metadata": {},
   "source": [
    "For now the script will take the user to a text based menu with options on how to proceed, if the user enters 1, the model is tested with the mnist dataset and test result accuracys are displayed for each epoch. 10 epochs are used. I plan on implementing another feature that allows the user to select there own digit file and test it with the model. "
   ]
  },
  {
   "cell_type": "markdown",
   "metadata": {},
   "source": [
    "# Information about code"
   ]
  },
  {
   "cell_type": "markdown",
   "metadata": {},
   "source": [
    "The reason why the environment was set up to contain keras is to create an isolated environment for Python projects. This means that each project can have its own dependencies, regardless of what dependencies every other project has. Without the environment set the project will run on an infinate loop while trying to import keras."
   ]
  },
  {
   "cell_type": "markdown",
   "metadata": {},
   "source": [
    "## Epochs"
   ]
  },
  {
   "cell_type": "markdown",
   "metadata": {},
   "source": [
    "Epochs are arbitrary cutoff, generally defined as \"one pass over the entire dataset\". In the code I have 10 epochs set which means the tests are performed throughout the entire data set 10 times. "
   ]
  },
  {
   "cell_type": "code",
   "execution_count": 4,
   "metadata": {},
   "outputs": [
    {
     "data": {
      "image/png": "[encoded data removed]",
      "text/plain": [
       "<IPython.core.display.Image object>"
      ]
     },
     "execution_count": 4,
     "metadata": {},
     "output_type": "execute_result"
    }
   ],
   "source": [
    "from IPython.display import Image\n",
    "Image(filename='images\\epochs.png') "
   ]
  },
  {
   "cell_type": "markdown",
   "metadata": {},
   "source": [
    "As you can see from the script the accuracy of the model increases as the epochs go up. hitting a max of 96 percent and a min of 83 percent"
   ]
  },
  {
   "cell_type": "markdown",
   "metadata": {},
   "source": [
    "## Layers"
   ]
  },
  {
   "cell_type": "markdown",
   "metadata": {},
   "source": [
    "Keras layers are the fundamental building block of keras models. Layers are created using a wide variety of layer_ functions and are typically composed together by stacking calls to them using the pipe %>% operator. In the script I use two layers that add up to 1000 neurons and three neuron output layer."
   ]
  },
  {
   "cell_type": "markdown",
   "metadata": {},
   "source": [
    "## Encoder"
   ]
  },
  {
   "cell_type": "markdown",
   "metadata": {},
   "source": [
    "The encoder is used to convert the training labels to binary for use with the model. "
   ]
  },
  {
   "cell_type": "code",
   "execution_count": null,
   "metadata": {},
   "outputs": [],
   "source": []
  }
 ],
 "metadata": {
  "kernelspec": {
   "display_name": "Python 3",
   "language": "python",
   "name": "python3"
  },
  "language_info": {
   "codemirror_mode": {
    "name": "ipython",
    "version": 3
   },
   "file_extension": ".py",
   "mimetype": "text/x-python",
   "name": "python",
   "nbconvert_exporter": "python",
   "pygments_lexer": "ipython3",
   "version": "3.7.0"
  }
 },
 "nbformat": 4,
 "nbformat_minor": 2
}
