{
 "cells": [
  {
   "cell_type": "markdown",
   "metadata": {},
   "source": [
    "# Numpy\n"
   ]
  },
  {
   "cell_type": "markdown",
   "metadata": {},
   "source": [
    "Numpy is the core library for scientific computing in Python. It provides a high performance multidimensional array object as well as various tools for working with and using these arrays. It is a table of elements (usually numbers), all of the same type, indexed by a tuple of positive integers. In NumPy dimensions are called axes. The package can be split into multiple parts (Such as its random functions, distributions etc.) and in this document I will talk about some of them. "
   ]
  },
  {
   "cell_type": "markdown",
   "metadata": {},
   "source": [
    "# Arrays"
   ]
  },
  {
   "cell_type": "markdown",
   "metadata": {},
   "source": [
    "A Numpy array is a grid of values each of the same type and is indexed by a tuple of nonnegative integers. The following are some examples of creating arrays with the Numpy package. "
   ]
  },
  {
   "cell_type": "code",
   "execution_count": 4,
   "metadata": {},
   "outputs": [],
   "source": [
    "import numpy as np # import numpy package as np \n",
    "\n",
    "a = np.zeros((2,2)) # function that creates a 2x2 array of all zeroes"
   ]
  },
  {
   "cell_type": "markdown",
   "metadata": {},
   "source": [
    "The following code creates an array of all zeros"
   ]
  },
  {
   "cell_type": "code",
   "execution_count": 3,
   "metadata": {},
   "outputs": [
    {
     "name": "stdout",
     "output_type": "stream",
     "text": [
      "[[0. 0.]\n",
      " [0. 0.]]\n"
     ]
    }
   ],
   "source": [
    "print(a) # Prints the outputs of the array we created  "
   ]
  },
  {
   "cell_type": "markdown",
   "metadata": {},
   "source": [
    "Using \"print(a)\" we are able to print the valleys of the all zero array to the screen. As well as \"np.zeros\" you can also use \"np.ones\" to create an array of 1's and print them. "
   ]
  },
  {
   "cell_type": "code",
   "execution_count": 5,
   "metadata": {},
   "outputs": [],
   "source": [
    "b = np.ones((1,2))    # Array Created of 1's, array is 1x2 in size"
   ]
  },
  {
   "cell_type": "code",
   "execution_count": 6,
   "metadata": {},
   "outputs": [
    {
     "name": "stdout",
     "output_type": "stream",
     "text": [
      "[[1. 1.]]\n"
     ]
    }
   ],
   "source": [
    "print(b) # Prints the outputs of the b array we created"
   ]
  },
  {
   "cell_type": "markdown",
   "metadata": {},
   "source": [
    "Other examples include Np.full which creates a constant array and np.random.random which fills the array with random values. On top of this, Numpy also allows various ways to index arrays. Arrays can be sliced similar to Python lists. If arrays are multidimensional you must specify the slice for each dimension of the array."
   ]
  },
  {
   "cell_type": "code",
   "execution_count": 11,
   "metadata": {},
   "outputs": [],
   "source": [
    "import numpy as np\n",
    "\n",
    "# Create the following rank 2 array with shape (3, 4)\n",
    "# [[ 1  2  3  4]\n",
    "#  [ 5  6  7  8]\n",
    "#  [ 9 10 11 12]]\n",
    "a = np.array([[1,2,3,4], [5,6,7,8], [9,10,11,12]])"
   ]
  },
  {
   "cell_type": "markdown",
   "metadata": {},
   "source": [
    "The following snippit creates a rank 2 array. "
   ]
  },
  {
   "cell_type": "code",
   "execution_count": 13,
   "metadata": {},
   "outputs": [
    {
     "name": "stdout",
     "output_type": "stream",
     "text": [
      "2\n",
      "77\n"
     ]
    }
   ],
   "source": [
    "# Use slicing to pull out the subarray consisting of the first 2 rows\n",
    "# and columns 1 and 2; b is the following array of shape (2, 2):\n",
    "# [[2 3]\n",
    "#  [6 7]]\n",
    "b = a[:2, 1:3]\n",
    "\n",
    "# A slice of an array is a view into the same data, so modifying it\n",
    "# will modify the original array.\n",
    "print(a[0, 1])   # Prints \"2\"\n",
    "b[0, 0] = 77     # b[0, 0] is the same piece of data as a[0, 1]\n",
    "print(a[0, 1])   # Prints \"77\""
   ]
  },
  {
   "cell_type": "markdown",
   "metadata": {},
   "source": [
    "# Random Data"
   ]
  },
  {
   "cell_type": "markdown",
   "metadata": {},
   "source": [
    "The numpy library contains various functions and packages for manipulating and producing random data. The library contains a vast and diverse list of functions to manipulate random data and listing them all would be an accomplishment in itself, I will instead talk about just a few of them."
   ]
  },
  {
   "cell_type": "markdown",
   "metadata": {},
   "source": [
    "## Random.rand"
   ]
  },
  {
   "cell_type": "code",
   "execution_count": 7,
   "metadata": {},
   "outputs": [
    {
     "data": {
      "text/plain": [
       "array([[[0.14812441, 0.46273799, 0.5479028 ],\n",
       "        [0.25402037, 0.96749585, 0.97716522],\n",
       "        [0.23852304, 0.15611055, 0.79857229],\n",
       "        [0.55844163, 0.32751454, 0.21156077]],\n",
       "\n",
       "       [[0.53401066, 0.50836664, 0.55741126],\n",
       "        [0.57202517, 0.72502822, 0.70763508],\n",
       "        [0.46857985, 0.394625  , 0.32834793],\n",
       "        [0.46605389, 0.56176772, 0.87800178]],\n",
       "\n",
       "       [[0.17016258, 0.35533568, 0.40055793],\n",
       "        [0.61638233, 0.02932468, 0.93474955],\n",
       "        [0.9340819 , 0.80110696, 0.83104552],\n",
       "        [0.30754463, 0.19319621, 0.32367154]]])"
      ]
     },
     "execution_count": 7,
     "metadata": {},
     "output_type": "execute_result"
    }
   ],
   "source": [
    "import numpy as np # Imports numpy and defines it as NP\n",
    "\n",
    "np.random.rand(3, 4, 3) # Creates a random array and populates random samples from a uniform distribution"
   ]
  },
  {
   "cell_type": "markdown",
   "metadata": {},
   "source": [
    "The above function creates an array of any given shape of the given shape and populate it with random samples from a uniform distribution. The dimensions of the returned array, should all be positive. If no argument is given a single Python float is returned. The output values are all randomized, as for the 3 return values of the function the first two numbers dictate the range of values we want to use for our array and the last argument allows you to set the dimensions of the array. "
   ]
  },
  {
   "cell_type": "markdown",
   "metadata": {},
   "source": [
    "## Random_sample"
   ]
  },
  {
   "cell_type": "code",
   "execution_count": 7,
   "metadata": {},
   "outputs": [
    {
     "data": {
      "text/plain": [
       "array([[-1.10788028, -4.05302547],\n",
       "       [-2.16130346, -2.52999504],\n",
       "       [-2.8177046 , -3.7415057 ]])"
      ]
     },
     "execution_count": 7,
     "metadata": {},
     "output_type": "execute_result"
    }
   ],
   "source": [
    "import numpy as np \n",
    "5 * np.random.random_sample((3, 2)) - 5\n"
   ]
  },
  {
   "cell_type": "markdown",
   "metadata": {},
   "source": [
    "The cell above shows how to perform the random.random_sample function. This function is used to return random floats in the half-open interval. The code shows how to generate a three by two array of random numbers from -5, 0. "
   ]
  },
  {
   "cell_type": "markdown",
   "metadata": {},
   "source": [
    "# Random.bytes"
   ]
  },
  {
   "cell_type": "code",
   "execution_count": 10,
   "metadata": {},
   "outputs": [
    {
     "data": {
      "text/plain": [
       "b'\\xf3~:C&\\xbb0I\\xa0`=\\xc4\\x0c\\x08S\\x03\\xdanV\\xe0'"
      ]
     },
     "execution_count": 10,
     "metadata": {},
     "output_type": "execute_result"
    }
   ],
   "source": [
    "np.random.bytes(20) # returns a string of random bytes, outputs 20 of them"
   ]
  },
  {
   "cell_type": "markdown",
   "metadata": {},
   "source": [
    "The following code cell uses the numpy random.bytes function. Another simple function, it is used to return a string of random bytes. The parameter that is passed in is used to select how many bytes you wish to generate (for the above sample I used 20 for the input, which in turn returned 20 random bytes and for the example below I will use an input of 40 to return a string of 40 random bytes.) "
   ]
  },
  {
   "cell_type": "code",
   "execution_count": 12,
   "metadata": {},
   "outputs": [
    {
     "data": {
      "text/plain": [
       "b'\\xe7\\xd7\\xf3`\\xcd\\t\\x85L\\x8eby\\xe6\\x9ea\\x12.\\x95\\xec\\xea\\xf8!\\xe4\\x04\\x826\\x9b\\xc1\\xa3\\xa9k7.\\r|\\x89D\\xe0\\xdf\\x01\\xa0'"
      ]
     },
     "execution_count": 12,
     "metadata": {},
     "output_type": "execute_result"
    }
   ],
   "source": [
    "np.random.bytes(40) # same as above but instead outputs 40 "
   ]
  },
  {
   "cell_type": "markdown",
   "metadata": {},
   "source": [
    "# Distributions"
   ]
  },
  {
   "cell_type": "markdown",
   "metadata": {},
   "source": [
    "Using various graphs and charts that are provided as functions we can show our random data on various different graphs such as bar charts and histograms. The numpy.random package contains 35 different distributions that can be used. This distributions can of course be used for categorical and numerical data but for now I'm just going to cover a few basic ones. "
   ]
  },
  {
   "cell_type": "code",
   "execution_count": 13,
   "metadata": {},
   "outputs": [],
   "source": [
    "import numpy as np # Imports numpy \n",
    "import matplotlib.pyplot as plt # importing package for creation of plots\n",
    "\n",
    "x = np.random.uniform(1, 10, 10000) # Creates a random uniform distribution"
   ]
  },
  {
   "cell_type": "code",
   "execution_count": 7,
   "metadata": {},
   "outputs": [
    {
     "data": {
      "image/png": "[encoded data removed]",
      "text/plain": [
       "<Figure size 432x288 with 1 Axes>"
      ]
     },
     "metadata": {
      "needs_background": "light"
     },
     "output_type": "display_data"
    }
   ],
   "source": [
    "plt.hist(x) # makes the plot for the histogram \n",
    "plt.show() # outputs the contents of the plot "
   ]
  },
  {
   "cell_type": "markdown",
   "metadata": {},
   "source": [
    "From this code snippet I have assembled a random histogram just to show off this feature I used the uniform function but for the next one I plan on showing the same histogram but with the normal function instead. Samples from the uniform function are uniformly distributed over the half-open interval, in simpler  terms, any value within the given interval is equally likely to be drawn by uniform. The function takes 3 arguments, a low value (set to 1), a high value that's set to 10 and the final argument is for setting the size of of the output shape. If size is None (default), a single value is returned if low and high are both scalars. Otherwise, np.broadcast(low, high).Size samples are drawn."
   ]
  },
  {
   "cell_type": "code",
   "execution_count": 10,
   "metadata": {},
   "outputs": [
    {
     "data": {
      "image/png": "[encoded data removed]",
      "text/plain": [
       "<Figure size 432x288 with 1 Axes>"
      ]
     },
     "metadata": {
      "needs_background": "light"
     },
     "output_type": "display_data"
    }
   ],
   "source": [
    "x = np.random.normal(0.5, 1.0, 10000) # creates plot for gaussian distributions\n",
    "plt.hist(x) \n",
    "plt.show() # shows the distribution "
   ]
  },
  {
   "cell_type": "markdown",
   "metadata": {},
   "source": [
    "The following function draws random samples from a normal (Gaussian) distribution. The normal distributions occurs often in nature. For example, it describes the commonly occurring distribution of samples influenced by a large number of tiny, random disturbances, each with its own unique distribution. This distribution is usually bell curved in shape (As we can see from the above histogram, the values are higher in the centre thus giving it the \"bell curve\"). 3 parameters are passed into this function, the mean, the scale and as usual the size (Usually set to 10000)."
   ]
  },
  {
   "cell_type": "code",
   "execution_count": 19,
   "metadata": {},
   "outputs": [
    {
     "data": {
      "image/png": "[encoded data removed]",
      "text/plain": [
       "<Figure size 432x288 with 1 Axes>"
      ]
     },
     "metadata": {
      "needs_background": "light"
     },
     "output_type": "display_data"
    }
   ],
   "source": [
    "import matplotlib.pyplot as plt\n",
    "x = np.random.triangular(1, 5, 6, 10000) # creates plot in triangular distribution \n",
    "plt.hist(x)\n",
    "plt.show()"
   ]
  },
  {
   "cell_type": "markdown",
   "metadata": {},
   "source": [
    "This function is used for drawing samples from the triangular distribution over the interval [Left, Right].\n",
    "\n",
    "The triangular distribution is a continuous probability distribution with lower limit left, peak at mode, and upper limit right. Unlike the other distributions, these parameters directly define the shape of the distribution. The 3 parameters for this function are left limit (set as 1), peak (The value where the peak of the distribution occurs, set to five) and upper limit (set to six). The size is set to the usual 10000."
   ]
  },
  {
   "cell_type": "markdown",
   "metadata": {},
   "source": [
    "## Numpy.random.poisson"
   ]
  },
  {
   "cell_type": "markdown",
   "metadata": {},
   "source": [
    "The following function is used for drawing samples from the Poisson distribution. By definition, a Poisson distribution is a discrete frequency distribution which gives the probability of a number of independent events occurring in a fixed time."
   ]
  },
  {
   "cell_type": "code",
   "execution_count": 1,
   "metadata": {},
   "outputs": [],
   "source": [
    "import numpy as np\n",
    "s = np.random.poisson(5, 10000) # draws samples from Poisson distribution"
   ]
  },
  {
   "cell_type": "markdown",
   "metadata": {},
   "source": [
    "The above cell draws samples from the distribution "
   ]
  },
  {
   "cell_type": "code",
   "execution_count": 4,
   "metadata": {},
   "outputs": [
    {
     "data": {
      "image/png": "[encoded data removed]",
      "text/plain": [
       "<Figure size 432x288 with 1 Axes>"
      ]
     },
     "metadata": {
      "needs_background": "light"
     },
     "output_type": "display_data"
    }
   ],
   "source": [
    "import matplotlib.pyplot as plt\n",
    "count, bins, ignored = plt.hist(s, 14, density=True)\n",
    "plt.show()"
   ]
  },
  {
   "cell_type": "markdown",
   "metadata": {},
   "source": [
    "We then plot our histogram of the distribution. Parameter's used are once again the size of the distribution (set to the usual 10000) and the other parameter represents the expectation of interval which we have set as five. "
   ]
  },
  {
   "cell_type": "markdown",
   "metadata": {},
   "source": [
    "# Permutations"
   ]
  },
  {
   "cell_type": "markdown",
   "metadata": {},
   "source": [
    "By scientific definition permutations mean each of several possible ways in which a set or number of things can be ordered or arranged. For an example, lets say you want to visit the homes of three friends Alex (\"a\"), Betty (\"b\") and Cara (\"c\"), but haven't decided in what order. What choices do you have? The answer is {a,b,c} {a,c,b} {b,a,c} {b,c,a} {c,a,b} {c,b,a}. For the Permutations library there are 2 functions that can used. I will explain them below.   "
   ]
  },
  {
   "cell_type": "markdown",
   "metadata": {},
   "source": [
    "## Numpy.random.shuffle"
   ]
  },
  {
   "cell_type": "markdown",
   "metadata": {},
   "source": [
    "This function allows you to modify a sequence in-place by shuffling its contents. This function only shuffles the array along the first axis of a multi-dimensional array. The order of sub-arrays is changed but their contents remains the same."
   ]
  },
  {
   "cell_type": "code",
   "execution_count": 10,
   "metadata": {},
   "outputs": [
    {
     "data": {
      "text/plain": [
       "array([1, 7, 8, 0, 2, 6, 3, 4, 5, 9])"
      ]
     },
     "execution_count": 10,
     "metadata": {},
     "output_type": "execute_result"
    }
   ],
   "source": [
    "import numpy as np\n",
    "arr = np.arange(10) # creates an array and makes sure the numbers cannot exceed 10 \n",
    "np.random.shuffle(arr) # suffles the array \n",
    "arr"
   ]
  },
  {
   "cell_type": "markdown",
   "metadata": {},
   "source": [
    "The cell above first creates an array and then using the function we can shuffle the arrays contents. The numbers generated can not be greater than 10 as listed. "
   ]
  },
  {
   "cell_type": "code",
   "execution_count": 14,
   "metadata": {},
   "outputs": [
    {
     "data": {
      "text/plain": [
       "array([[0, 1, 2],\n",
       "       [3, 4, 5],\n",
       "       [6, 7, 8]])"
      ]
     },
     "execution_count": 14,
     "metadata": {},
     "output_type": "execute_result"
    }
   ],
   "source": [
    "arr = np.arange(9).reshape((3, 3)) # reshapes the array into a 3x3 array \n",
    "np.random.shuffle(arr)\n",
    "arr"
   ]
  },
  {
   "cell_type": "markdown",
   "metadata": {},
   "source": [
    "Using reshape we can then reshape the array into a 3 by 3 array, once again the contents of the array are generated as height as the number 9. Multi-dimensional arrays are only shuffled along the first axis. This function only contains one parameter which is the array or list that you want to shuffle."
   ]
  },
  {
   "cell_type": "markdown",
   "metadata": {},
   "source": [
    "## Numpy.random.permutation"
   ]
  },
  {
   "cell_type": "markdown",
   "metadata": {},
   "source": [
    "The permutation function acts similarly to the function posted above, but instead of using arrange and shuffle separately it uses the two functions for the price of one. In short, it randomly permutes a sequence, or returns a permuted range. "
   ]
  },
  {
   "cell_type": "code",
   "execution_count": 15,
   "metadata": {},
   "outputs": [
    {
     "data": {
      "text/plain": [
       "array([4, 2, 0, 8, 1, 9, 3, 5, 7, 6])"
      ]
     },
     "execution_count": 15,
     "metadata": {},
     "output_type": "execute_result"
    }
   ],
   "source": [
    "np.random.permutation(10) # "
   ]
  },
  {
   "cell_type": "markdown",
   "metadata": {},
   "source": [
    "This function contains only one parameter which we will refer to as x. If x is an integer, it randomly permutes np.arange(x). However, if x is an array, it makes a copy and shuffles the elements randomly."
   ]
  },
  {
   "cell_type": "code",
   "execution_count": 16,
   "metadata": {},
   "outputs": [
    {
     "data": {
      "text/plain": [
       "array([ 1, 15, 12,  9,  4])"
      ]
     },
     "execution_count": 16,
     "metadata": {},
     "output_type": "execute_result"
    }
   ],
   "source": [
    "np.random.permutation([1, 4, 9, 12, 15])"
   ]
  },
  {
   "cell_type": "markdown",
   "metadata": {},
   "source": [
    "The cell above is showing how the \"shuffle\" part of the function works, with an array of randomly inputted integers entered by the user it then shuffles them and displays them for the output."
   ]
  },
  {
   "cell_type": "code",
   "execution_count": null,
   "metadata": {},
   "outputs": [],
   "source": []
  }
 ],
 "metadata": {
  "kernelspec": {
   "display_name": "Python 3",
   "language": "python",
   "name": "python3"
  },
  "language_info": {
   "codemirror_mode": {
    "name": "ipython",
    "version": 3
   },
   "file_extension": ".py",
   "mimetype": "text/x-python",
   "name": "python",
   "nbconvert_exporter": "python",
   "pygments_lexer": "ipython3",
   "version": "3.7.0"
  }
 },
 "nbformat": 4,
 "nbformat_minor": 2
}
