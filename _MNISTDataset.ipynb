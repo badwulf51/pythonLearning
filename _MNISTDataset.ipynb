{
 "cells": [
  {
   "cell_type": "markdown",
   "metadata": {},
   "source": [
    "#  MNIST dataset"
   ]
  },
  {
   "cell_type": "markdown",
   "metadata": {},
   "source": [
    "The MNIST database (Modified National Institute of Standards and Technology database) is a large database collection of handwritten digits used for training various different image processing systems. This database (Or dataset as some like to call it) is mostly used in the field of machine learning in respect to image processing machine learning. The set contains various digits re-written in different styles to help with the various different ways the digit can be written. The MNIST database contains 60,000 training images and 10,000 testing images. Half of the training set and half of the test set were taken from NIST's training dataset, while the other half of the training set and the other half of the test set were taken from NIST's testing dataset."
   ]
  },
  {
   "cell_type": "markdown",
   "metadata": {},
   "source": [
    "## Notebook Purpose"
   ]
  },
  {
   "cell_type": "markdown",
   "metadata": {},
   "source": [
    "The main purpose of this MNIST notebook is to read the data in from the files and unzip them as well as being able to create an use a function that can store all images on the system. "
   ]
  },
  {
   "cell_type": "markdown",
   "metadata": {},
   "source": [
    "## Unzipping "
   ]
  },
  {
   "cell_type": "markdown",
   "metadata": {},
   "source": [
    "The first step is to be able to read from the training files that were provided for us at http://yann.lecun.com/exdb/mnist/.\n",
    "The files on the site are compressed using gzip but luckily for us python can handle files like that with a simple import. "
   ]
  },
  {
   "cell_type": "code",
   "execution_count": 17,
   "metadata": {},
   "outputs": [],
   "source": [
    "import gzip # Imports gzip for opening and reading gzipped files\n",
    "import numpy as np # Import for numpy \n",
    "with gzip.open('MNISTData/t10k-images-idx3-ubyte.gz', 'rb') as file: # gzip opens the zipped file located in the folder\n",
    "    file_content1 = file.read()\n",
    "    \n",
    "with gzip.open('MNISTData/train-images-idx3-ubyte.gz', 'rb') as file: # Same as before \n",
    "    file_content2 = file.read()\n",
    "    \n",
    "\n",
    "with gzip.open('MNISTData/t10k-labels-idx1-ubyte.gz', 'rb') as file: # Gzip opens the labels file\n",
    "    label_content1 = file.read()\n",
    "    \n",
    "with gzip.open('MNISTData/train-labels-idx1-ubyte.gz', 'rb') as file:\n",
    "    label_content2 = file.read()"
   ]
  },
  {
   "cell_type": "markdown",
   "metadata": {},
   "source": [
    "Please note: For the gzip file path provided I created a folder in jupyter called \"MNISTData\" and then added the .gz file into it, this will need to be done on your own machine if you want the code to work.\n",
    "\n",
    "By importing gzip we are then able to open and read the .gz file provided. To test we have this working and running properly we can check the files contents. "
   ]
  },
  {
   "cell_type": "code",
   "execution_count": 18,
   "metadata": {},
   "outputs": [
    {
     "data": {
      "text/plain": [
       "bytes"
      ]
     },
     "execution_count": 18,
     "metadata": {},
     "output_type": "execute_result"
    }
   ],
   "source": [
    "type(file_content1) # prints the contents of the first file, output shows the contents are in bytes"
   ]
  },
  {
   "cell_type": "markdown",
   "metadata": {},
   "source": [
    "Using this line of code we can see the files contents are in bytes. We will now print the first 4 bytes of the file (Referred to as the magic numbers on the documentation) "
   ]
  },
  {
   "cell_type": "code",
   "execution_count": 20,
   "metadata": {},
   "outputs": [
    {
     "data": {
      "text/plain": [
       "b'\\x00\\x00\\x08\\x03'"
      ]
     },
     "execution_count": 20,
     "metadata": {},
     "output_type": "execute_result"
    }
   ],
   "source": [
    "file_content1[0:4] # prints the first 4 bytes of the file"
   ]
  },
  {
   "cell_type": "markdown",
   "metadata": {},
   "source": [
    "# Image Display"
   ]
  },
  {
   "cell_type": "markdown",
   "metadata": {},
   "source": [
    "The next step for us is to actually show and display an image from the dataset just to be sure were still on the right path. To this you can just simply import mathplot and use the \"image show\" command to display it."
   ]
  },
  {
   "cell_type": "markdown",
   "metadata": {},
   "source": [
    "Before doing that we must first insure that the image is coming from the IDX files in the .gz folder. To do so we can use the numpy package to reshape the variable into (28*28) grids so that we can plot them on a canvas and visualize the image."
   ]
  },
  {
   "cell_type": "code",
   "execution_count": 22,
   "metadata": {},
   "outputs": [],
   "source": [
    "import numpy as np\n",
    "image = ~np.array(list(file_content[16:800])).reshape(28,28).astype(np.uint8) # takes the first image of the file \n",
    "# 16 is the first bit of the first image, 800 is the last bit of the first image"
   ]
  },
  {
   "cell_type": "code",
   "execution_count": 24,
   "metadata": {},
   "outputs": [],
   "source": [
    "%matplotlib inline\n",
    "import matplotlib.pyplot as plot ## import ploting for image display"
   ]
  },
  {
   "cell_type": "code",
   "execution_count": 25,
   "metadata": {},
   "outputs": [
    {
     "data": {
      "text/plain": [
       "<matplotlib.image.AxesImage at 0x1842ec402b0>"
      ]
     },
     "execution_count": 25,
     "metadata": {},
     "output_type": "execute_result"
    },
    {
     "data": {
      "image/png": "[encoded data removed]",
      "text/plain": [
       "<Figure size 432x288 with 1 Axes>"
      ]
     },
     "metadata": {
      "needs_background": "light"
     },
     "output_type": "display_data"
    }
   ],
   "source": [
    "plot.imshow(image, cmap='gray') # plots the image and shows it"
   ]
  },
  {
   "cell_type": "markdown",
   "metadata": {},
   "source": [
    "Using mathplot we are able to visualize the first image of the dataset and display it. Now onto the more tricky part, trying to save all 60'000 images contained in the data set!"
   ]
  },
  {
   "cell_type": "markdown",
   "metadata": {},
   "source": [
    "# CV2"
   ]
  },
  {
   "cell_type": "markdown",
   "metadata": {},
   "source": [
    "CV2 is the name of the import package we will be using to attempt to save the images from the training files. We can use functions such as .imread() to read images and .imwrite to help save the images in general. The first step is to install opencv off the main website and then add the cv2 environment variable to the python path. I encountered a large number of errors while trying to install opencv and get the import working. After many, MANY attempts at fixes and the likes, I discovered that installing opencv via anaconda with \"conda install opencv\" is by far the best way. OpenCV can have many confliction errors with your version number of python, however, installing it via Anaconda prompt seems to give the correct and working download. CV2 will allow us to save plots as .png images."
   ]
  },
  {
   "cell_type": "code",
   "execution_count": 11,
   "metadata": {},
   "outputs": [
    {
     "data": {
      "text/plain": [
       "b'\\x00\\x00\\x08\\x03'"
      ]
     },
     "execution_count": 11,
     "metadata": {},
     "output_type": "execute_result"
    }
   ],
   "source": [
    "import gzip \n",
    "import cv2\n",
    "\n",
    "with gzip.open('MNISTData/t10k-images-idx3-ubyte.gz', 'rb') as file:\n",
    "    file_content = file.read()\n",
    "    \n",
    "file_content[0:4]"
   ]
  },
  {
   "cell_type": "markdown",
   "metadata": {},
   "source": [
    "With cv2 successfully imported we can then open the gzip folder and output the first 4 bytes of the file (referred to as the magic number) 16 is the first bit of the first image. To save the files more easier we could use a for loop that loops through each image in the folder saving each one as it goes by but were going to need a bit more than the first bit of the first image to do that. "
   ]
  },
  {
   "cell_type": "markdown",
   "metadata": {},
   "source": [
    "We will also need to know the total number of images contained in the folder which is 60000. The starting bytes as stated above is 16. The image is 28x28 pixels which adds to 784 total pixels."
   ]
  },
  {
   "cell_type": "code",
   "execution_count": 16,
   "metadata": {},
   "outputs": [],
   "source": [
    "\n",
    "\n",
    "# Variables used for data manipulation. \n",
    "trainImages1=16 # first bit of first image \n",
    "trainImages2=800 # Last bit of first image \n",
    "\n",
    "trainLabels1=8 # First bit of first label \n",
    "trainLabels2=9 # Last bit of first label \n",
    "\n",
    "\n",
    "with gzip.open('MNISTData/t10k-images-idx3-ubyte.gz', 'rb') as file: # use gzip to open the images file\n",
    "    imagecontents = file.read()\n",
    "    \n",
    "\n",
    "with gzip.open('MNISTData/t10k-labels-idx1-ubyte.gz', 'rb') as file: # use gzip to open the labels file \n",
    "    labelscontents = file.read()\n",
    "\n",
    "\n",
    "for x in range(10): # for loop that goes through each image, given the value 10 it should save the first 10 images in the dataset \n",
    "    image = ~np.array(list(imagecontents[trainImages1:trainImages2])).reshape(28,28).astype(np.uint8)\n",
    "    labels = np.array(list(labelscontents[trainLabels1:trainLabels2])).astype(np.uint8)\n",
    "        \n",
    "    # each label is byte to the next one so we increment the value by 1 each time\n",
    "    trainLabels1+=1\n",
    "    trainLabels2+=1\n",
    "        \n",
    "    # same as before, but for images, since each next image is 784 bytes we increment the values by 784    \n",
    "    trainImages1+=784\n",
    "    trainImages2+=784\n",
    "        \n",
    "        \n",
    "    cv2.imwrite('set ' + str(x) + 'digit ' + str(labels) + '.png', image) # cv2 writes and saves the images to folder\n",
    "        \n",
    "        "
   ]
  },
  {
   "cell_type": "markdown",
   "metadata": {},
   "source": [
    "# Does The Loop Work? "
   ]
  },
  {
   "cell_type": "markdown",
   "metadata": {},
   "source": [
    "The loop saves images to the default directory successfully. The parameter for the range can be edited to select how many images you want to save (example: having 10 will save the first 10, having 100 will save the first 100 and so on.) "
   ]
  },
  {
   "cell_type": "code",
   "execution_count": null,
   "metadata": {},
   "outputs": [],
   "source": []
  }
 ],
 "metadata": {
  "kernelspec": {
   "display_name": "Python 3",
   "language": "python",
   "name": "python3"
  },
  "language_info": {
   "codemirror_mode": {
    "name": "ipython",
    "version": 3
   },
   "file_extension": ".py",
   "mimetype": "text/x-python",
   "name": "python",
   "nbconvert_exporter": "python",
   "pygments_lexer": "ipython3",
   "version": "3.7.0"
  }
 },
 "nbformat": 4,
 "nbformat_minor": 2
}
